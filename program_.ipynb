{
  "nbformat": 4,
  "nbformat_minor": 0,
  "metadata": {
    "colab": {
      "name": " program .ipynb",
      "provenance": [],
      "collapsed_sections": []
    },
    "kernelspec": {
      "name": "python3",
      "display_name": "Python 3"
    },
    "language_info": {
      "name": "python"
    }
  },
  "cells": [
    {
      "cell_type": "code",
      "metadata": {
        "colab": {
          "base_uri": "https://localhost:8080/"
        },
        "id": "7P8rUW2AZsXQ",
        "outputId": "0e5d27b0-8d23-47cd-b4eb-2b63bcc27bd4"
      },
      "source": [
        "values = input(\"Input some comma seprated numbers : \")\n",
        "list = values.split(\",\")\n",
        "tuple = tuple(list)\n",
        "print('List1 : ',list)\n",
        "print('Tuple : ',tuple)"
      ],
      "execution_count": 3,
      "outputs": [
        {
          "output_type": "stream",
          "text": [
            "Input some comma seprated numbers : 2,4,6,5\n",
            "List1 :  ['2', '4', '6', '5']\n",
            "Tuple :  ('2', '4', '6', '5')\n"
          ],
          "name": "stdout"
        }
      ]
    },
    {
      "cell_type": "code",
      "metadata": {
        "colab": {
          "base_uri": "https://localhost:8080/"
        },
        "id": "OM4CTgJcdhn8",
        "outputId": "d38833e5-6287-4bb1-80da-215915970975"
      },
      "source": [
        "def remove_nums(int_list):\n",
        "  #list starts with 0 index\n",
        "  position = 3 - 1 \n",
        "  idx = 0\n",
        "  len_list = (len(int_list))\n",
        "  while len_list>0:\n",
        "    idx = (position+idx)%len_list\n",
        "    print(int_list.pop(idx))\n",
        "    len_list -= 1\n",
        "nums = [23,20,21,30,40,50,70,80,90]\n",
        "remove_nums(nums)"
      ],
      "execution_count": null,
      "outputs": [
        {
          "output_type": "stream",
          "text": [
            "30\n",
            "60\n",
            "90\n",
            "40\n",
            "80\n",
            "50\n",
            "20\n",
            "70\n",
            "10\n"
          ],
          "name": "stdout"
        }
      ]
    },
    {
      "cell_type": "code",
      "metadata": {
        "colab": {
          "base_uri": "https://localhost:8080/"
        },
        "id": "rQh5XfBWdLRQ",
        "outputId": "0a9d2b80-c349-4fb1-ba72-197257139959"
      },
      "source": [
        "def test_distinct(data):\n",
        "  if len(data) == len(set(data)):\n",
        "    return True\n",
        "  else:\n",
        "    return False;\n",
        "print(test_distinct([1,2,3,8]))\n",
        "print(test_distinct([2,4,3,3,9,1]))"
      ],
      "execution_count": null,
      "outputs": [
        {
          "output_type": "stream",
          "text": [
            "True\n",
            "False\n"
          ],
          "name": "stdout"
        }
      ]
    },
    {
      "cell_type": "code",
      "metadata": {
        "colab": {
          "base_uri": "https://localhost:8080/"
        },
        "id": "9FQNJrYoEP2X",
        "outputId": "ebaef782-1ed7-4d74-8720-b8cf1973cdf7"
      },
      "source": [
        "pi= 3.14\n",
        "r = float(input (\"input the radius of the circle:\"))\n",
        "area= pi*r*r\n",
        "print(\"the area of the circle with radius \" +str(r) + \"is:%.2f\"%area)\n"
      ],
      "execution_count": null,
      "outputs": [
        {
          "output_type": "stream",
          "text": [
            "input the radius of the circle:4\n",
            "the area of the circle with radius 4.0is:50.24\n"
          ],
          "name": "stdout"
        }
      ]
    }
  ]
}